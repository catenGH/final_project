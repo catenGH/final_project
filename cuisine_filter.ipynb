{
 "cells": [
  {
   "cell_type": "code",
   "execution_count": 23,
   "id": "1c1c7874",
   "metadata": {},
   "outputs": [
    {
     "data": {
      "text/html": [
       "<div>\n",
       "<style scoped>\n",
       "    .dataframe tbody tr th:only-of-type {\n",
       "        vertical-align: middle;\n",
       "    }\n",
       "\n",
       "    .dataframe tbody tr th {\n",
       "        vertical-align: top;\n",
       "    }\n",
       "\n",
       "    .dataframe thead th {\n",
       "        text-align: right;\n",
       "    }\n",
       "</style>\n",
       "<table border=\"1\" class=\"dataframe\">\n",
       "  <thead>\n",
       "    <tr style=\"text-align: right;\">\n",
       "      <th></th>\n",
       "      <th>Recipe Name</th>\n",
       "      <th>Thumbnail Link</th>\n",
       "      <th>Ingredients</th>\n",
       "      <th>Cook Time (in minutes)</th>\n",
       "      <th>Diet</th>\n",
       "      <th>Cuisine</th>\n",
       "      <th>Recipe Source</th>\n",
       "    </tr>\n",
       "  </thead>\n",
       "  <tbody>\n",
       "    <tr>\n",
       "      <th>0</th>\n",
       "      <td>Pork Belly Po Boys with Habenero Vinegar &amp; Hon...</td>\n",
       "      <td>https://img.spoonacular.com/recipes/607952-556...</td>\n",
       "      <td>['thin baguette', 'black pepper', 'honey', 'ma...</td>\n",
       "      <td>30</td>\n",
       "      <td>['dairy free']</td>\n",
       "      <td>NaN</td>\n",
       "      <td>http://spoonacular.com/-1407779679438</td>\n",
       "    </tr>\n",
       "    <tr>\n",
       "      <th>1</th>\n",
       "      <td>Braised Pork: Filipino Humba</td>\n",
       "      <td>https://img.spoonacular.com/recipes/635856-556...</td>\n",
       "      <td>['pork belly', 'boston butt', 'whole garlic cl...</td>\n",
       "      <td>45</td>\n",
       "      <td>['dairy free']</td>\n",
       "      <td>NaN</td>\n",
       "      <td>https://www.foodista.com/recipe/43GDRPKX/brais...</td>\n",
       "    </tr>\n",
       "    <tr>\n",
       "      <th>2</th>\n",
       "      <td>Ba Chang (Rice Dumplings)</td>\n",
       "      <td>https://img.spoonacular.com/recipes/633199-556...</td>\n",
       "      <td>['chinese five spice', 'bay leaves', 'chestnut...</td>\n",
       "      <td>45</td>\n",
       "      <td>['gluten free', 'dairy free']</td>\n",
       "      <td>NaN</td>\n",
       "      <td>http://www.foodista.com/recipe/CPTNQC6D/ba-cha...</td>\n",
       "    </tr>\n",
       "    <tr>\n",
       "      <th>3</th>\n",
       "      <td>Five Spice Chinese Pork Stew</td>\n",
       "      <td>https://img.spoonacular.com/recipes/643011-556...</td>\n",
       "      <td>['pork belly', 'water', 'chinese five spice', ...</td>\n",
       "      <td>45</td>\n",
       "      <td>['gluten free', 'dairy free']</td>\n",
       "      <td>['Chinese', 'Asian']</td>\n",
       "      <td>https://www.foodista.com/recipe/LNTFHNH5/five-...</td>\n",
       "    </tr>\n",
       "    <tr>\n",
       "      <th>4</th>\n",
       "      <td>Chinese Five Spice Braised Pork Belly With Lot...</td>\n",
       "      <td>https://img.spoonacular.com/recipes/638662-556...</td>\n",
       "      <td>['golden brown sugar', 'canola oil', 'cinnamon...</td>\n",
       "      <td>45</td>\n",
       "      <td>['gluten free', 'dairy free']</td>\n",
       "      <td>['Chinese', 'Asian']</td>\n",
       "      <td>http://www.foodista.com/recipe/BLK6TPBB/chines...</td>\n",
       "    </tr>\n",
       "  </tbody>\n",
       "</table>\n",
       "</div>"
      ],
      "text/plain": [
       "                                         Recipe Name  \\\n",
       "0  Pork Belly Po Boys with Habenero Vinegar & Hon...   \n",
       "1                       Braised Pork: Filipino Humba   \n",
       "2                          Ba Chang (Rice Dumplings)   \n",
       "3                       Five Spice Chinese Pork Stew   \n",
       "4  Chinese Five Spice Braised Pork Belly With Lot...   \n",
       "\n",
       "                                      Thumbnail Link  \\\n",
       "0  https://img.spoonacular.com/recipes/607952-556...   \n",
       "1  https://img.spoonacular.com/recipes/635856-556...   \n",
       "2  https://img.spoonacular.com/recipes/633199-556...   \n",
       "3  https://img.spoonacular.com/recipes/643011-556...   \n",
       "4  https://img.spoonacular.com/recipes/638662-556...   \n",
       "\n",
       "                                         Ingredients  Cook Time (in minutes)  \\\n",
       "0  ['thin baguette', 'black pepper', 'honey', 'ma...                      30   \n",
       "1  ['pork belly', 'boston butt', 'whole garlic cl...                      45   \n",
       "2  ['chinese five spice', 'bay leaves', 'chestnut...                      45   \n",
       "3  ['pork belly', 'water', 'chinese five spice', ...                      45   \n",
       "4  ['golden brown sugar', 'canola oil', 'cinnamon...                      45   \n",
       "\n",
       "                            Diet               Cuisine  \\\n",
       "0                 ['dairy free']                   NaN   \n",
       "1                 ['dairy free']                   NaN   \n",
       "2  ['gluten free', 'dairy free']                   NaN   \n",
       "3  ['gluten free', 'dairy free']  ['Chinese', 'Asian']   \n",
       "4  ['gluten free', 'dairy free']  ['Chinese', 'Asian']   \n",
       "\n",
       "                                       Recipe Source  \n",
       "0              http://spoonacular.com/-1407779679438  \n",
       "1  https://www.foodista.com/recipe/43GDRPKX/brais...  \n",
       "2  http://www.foodista.com/recipe/CPTNQC6D/ba-cha...  \n",
       "3  https://www.foodista.com/recipe/LNTFHNH5/five-...  \n",
       "4  http://www.foodista.com/recipe/BLK6TPBB/chines...  "
      ]
     },
     "execution_count": 23,
     "metadata": {},
     "output_type": "execute_result"
    }
   ],
   "source": [
    "import pandas as pd\n",
    "\n",
    "recipe = pd.read_csv(r\"C:\\Users\\catel\\OneDrive\\Documents\\GitHub\\class-work\\final_project\\recipes.csv\")\n",
    "recipe.head()"
   ]
  },
  {
   "cell_type": "code",
   "execution_count": 24,
   "id": "fa642c49",
   "metadata": {},
   "outputs": [
    {
     "data": {
      "text/plain": [
       "Index(['Recipe Name', 'Thumbnail Link', 'Ingredients',\n",
       "       'Cook Time (in minutes)', 'Diet', 'Cuisine', 'Recipe Source'],\n",
       "      dtype='object')"
      ]
     },
     "execution_count": 24,
     "metadata": {},
     "output_type": "execute_result"
    }
   ],
   "source": [
    "recipe.columns"
   ]
  },
  {
   "cell_type": "code",
   "execution_count": null,
   "id": "95821f9b",
   "metadata": {},
   "outputs": [
    {
     "name": "stdout",
     "output_type": "stream",
     "text": [
      "<class 'pandas.core.frame.DataFrame'>\n",
      "RangeIndex: 5 entries, 0 to 4\n",
      "Data columns (total 7 columns):\n",
      " #   Column                  Non-Null Count  Dtype \n",
      "---  ------                  --------------  ----- \n",
      " 0   Recipe Name             5 non-null      object\n",
      " 1   Thumbnail Link          5 non-null      object\n",
      " 2   Ingredients             5 non-null      object\n",
      " 3   Cook Time (in minutes)  5 non-null      int64 \n",
      " 4   Diet                    5 non-null      object\n",
      " 5   Cuisine                 5 non-null      object\n",
      " 6   Recipe Source           5 non-null      object\n",
      "dtypes: int64(1), object(6)\n",
      "memory usage: 412.0+ bytes\n"
     ]
    }
   ],
   "source": [
    "# recipe = recipe.fillna(\"None\")\n",
    "# recipe.info()"
   ]
  },
  {
   "cell_type": "code",
   "execution_count": 43,
   "id": "8a30e6b3",
   "metadata": {},
   "outputs": [
    {
     "ename": "TypeError",
     "evalue": "eval() arg 1 must be a string, bytes or code object",
     "output_type": "error",
     "traceback": [
      "\u001b[1;31m---------------------------------------------------------------------------\u001b[0m",
      "\u001b[1;31mTypeError\u001b[0m                                 Traceback (most recent call last)",
      "Cell \u001b[1;32mIn[43], line 2\u001b[0m\n\u001b[0;32m      1\u001b[0m \u001b[38;5;28;01mfor\u001b[39;00m i \u001b[38;5;129;01min\u001b[39;00m recipe[\u001b[38;5;124m\"\u001b[39m\u001b[38;5;124mCuisine\u001b[39m\u001b[38;5;124m\"\u001b[39m]:\n\u001b[1;32m----> 2\u001b[0m     recipe[\u001b[38;5;124m\"\u001b[39m\u001b[38;5;124mCuisine\u001b[39m\u001b[38;5;124m\"\u001b[39m] \u001b[38;5;241m=\u001b[39m \u001b[38;5;28meval\u001b[39m(recipe[\u001b[38;5;124m\"\u001b[39m\u001b[38;5;124mCuisine\u001b[39m\u001b[38;5;124m\"\u001b[39m])\n\u001b[0;32m      3\u001b[0m     recipe[\u001b[38;5;124m\"\u001b[39m\u001b[38;5;124mCuisine\u001b[39m\u001b[38;5;124m\"\u001b[39m]\n",
      "\u001b[1;31mTypeError\u001b[0m: eval() arg 1 must be a string, bytes or code object"
     ]
    }
   ],
   "source": [
    "for i in recipe[\"Cuisine\"]:\n",
    "    recipe[\"Cuisine\"] = eval(recipe[\"Cuisine\"])\n",
    "    recipe[\"Cuisine\"]"
   ]
  },
  {
   "cell_type": "code",
   "execution_count": 25,
   "id": "3a5f6fc0",
   "metadata": {},
   "outputs": [
    {
     "name": "stdout",
     "output_type": "stream",
     "text": [
      "None\n",
      "None\n",
      "None\n",
      "<class 'list'>\n",
      "Chinese Asian\n",
      "<class 'list'>\n",
      "Chinese Asian\n"
     ]
    }
   ],
   "source": [
    "#how do you convert a string that's actually a list back into a list?\n",
    "#the eval() -- takes one paramter, the string, returns the appropriate object \n",
    "\n",
    "for i in recipe[\"Cuisine\"]:\n",
    "    try:\n",
    "        new = eval(i)\n",
    "        print(type(new))\n",
    "        print(new[0], new[1])\n",
    "    except TypeError:\n",
    "        print(\"None\")\n",
    "\n",
    "# recipe[\"Cuisine\"] = recipe[\"Cuisine\"].apply(eval())"
   ]
  },
  {
   "cell_type": "code",
   "execution_count": 15,
   "id": "c23380cc",
   "metadata": {},
   "outputs": [
    {
     "name": "stdout",
     "output_type": "stream",
     "text": [
      "nan\n",
      "nan\n",
      "nan\n",
      "<class 'list'>\n",
      "<class 'list'>\n"
     ]
    }
   ],
   "source": [
    "for item in recipe[\"Cuisine\"]:\n",
    "    try:\n",
    "        new = list(item)\n",
    "        print(type(new))\n",
    "    except TypeError:\n",
    "        print(\"nan\")\n",
    "    # if \"Chinese\" in recipe[\"Cuisine\"]:\n",
    "    #     print(item)"
   ]
  },
  {
   "cell_type": "code",
   "execution_count": 3,
   "id": "2148c029",
   "metadata": {},
   "outputs": [],
   "source": [
    "cuisine_list = [\"African\", \"Asian\", \"American\", \"British\", \"Cajun\", \"Caribbean\", \"Chinese\", \"Creole\", \"Eastern European\", \"European\", \"French\", \"German\", \"Greek\", \"Indian\", \"Irish\", \"Italian\", \"Japanese\", \"Jewish\", \"Korean\", \"Latin American\", \"Mediterranean\", \"Mexican\", \"Middle Eastern\", \"Nordic\", \"Southern\", \"Spanish\", \"Thai\", \"Vietnamese\"]"
   ]
  },
  {
   "cell_type": "code",
   "execution_count": null,
   "id": "5776b85e",
   "metadata": {},
   "outputs": [],
   "source": [
    "def cuisine_filter(list):\n",
    "    cuisine_input = input(\"What cuisine?\")\n",
    "    for cuisine in cuisine_list:\n",
    "        if cuisine_input == cuisine:\n",
    "            \n",
    "\n",
    "cooktime_filter(recipe)"
   ]
  }
 ],
 "metadata": {
  "kernelspec": {
   "display_name": "base",
   "language": "python",
   "name": "python3"
  },
  "language_info": {
   "codemirror_mode": {
    "name": "ipython",
    "version": 3
   },
   "file_extension": ".py",
   "mimetype": "text/x-python",
   "name": "python",
   "nbconvert_exporter": "python",
   "pygments_lexer": "ipython3",
   "version": "3.12.4"
  }
 },
 "nbformat": 4,
 "nbformat_minor": 5
}
