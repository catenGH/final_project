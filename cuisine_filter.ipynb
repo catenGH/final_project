{
 "cells": [
  {
   "cell_type": "code",
   "execution_count": 1,
   "id": "1c1c7874",
   "metadata": {},
   "outputs": [
    {
     "data": {
      "text/html": [
       "<div>\n",
       "<style scoped>\n",
       "    .dataframe tbody tr th:only-of-type {\n",
       "        vertical-align: middle;\n",
       "    }\n",
       "\n",
       "    .dataframe tbody tr th {\n",
       "        vertical-align: top;\n",
       "    }\n",
       "\n",
       "    .dataframe thead th {\n",
       "        text-align: right;\n",
       "    }\n",
       "</style>\n",
       "<table border=\"1\" class=\"dataframe\">\n",
       "  <thead>\n",
       "    <tr style=\"text-align: right;\">\n",
       "      <th></th>\n",
       "      <th>Recipe Name</th>\n",
       "      <th>Thumbnail Link</th>\n",
       "      <th>Ingredients</th>\n",
       "      <th>Cook Time (in minutes)</th>\n",
       "      <th>Diet</th>\n",
       "      <th>Cuisine</th>\n",
       "      <th>Recipe Source</th>\n",
       "    </tr>\n",
       "  </thead>\n",
       "  <tbody>\n",
       "    <tr>\n",
       "      <th>0</th>\n",
       "      <td>Cajun Chicken Pasta</td>\n",
       "      <td>https://img.spoonacular.com/recipes/606953-556...</td>\n",
       "      <td>['butter', 'cajun seasoning', 'dried basil', '...</td>\n",
       "      <td>30</td>\n",
       "      <td>[]</td>\n",
       "      <td>['Creole', 'Cajun']</td>\n",
       "      <td>http://spoonacular.com/-1406317922675</td>\n",
       "    </tr>\n",
       "    <tr>\n",
       "      <th>1</th>\n",
       "      <td>Chicken shish kabobs</td>\n",
       "      <td>https://img.spoonacular.com/recipes/630484-556...</td>\n",
       "      <td>['boneless skinless chicken breast', 'garlic',...</td>\n",
       "      <td>50</td>\n",
       "      <td>['gluten free', 'dairy free']</td>\n",
       "      <td>NaN</td>\n",
       "      <td>https://spoonacular.com/-1426597077324</td>\n",
       "    </tr>\n",
       "    <tr>\n",
       "      <th>2</th>\n",
       "      <td>How to Make the Perfect Instant Pot Chicken</td>\n",
       "      <td>https://img.spoonacular.com/recipes/1050444-55...</td>\n",
       "      <td>['avocado oil', 'chicken breast', 'bell pepper...</td>\n",
       "      <td>18</td>\n",
       "      <td>['gluten free', 'dairy free', 'paleolithic', '...</td>\n",
       "      <td>NaN</td>\n",
       "      <td>https://www.pinkwhen.com/instant-pot-chicken/</td>\n",
       "    </tr>\n",
       "    <tr>\n",
       "      <th>3</th>\n",
       "      <td>Curry-Braised Chicken</td>\n",
       "      <td>https://img.spoonacular.com/recipes/641145-556...</td>\n",
       "      <td>['basmati rice', 'golden brown sugar', 'fish s...</td>\n",
       "      <td>75</td>\n",
       "      <td>['gluten free', 'dairy free', 'fodmap friendly']</td>\n",
       "      <td>['Indian', 'Asian']</td>\n",
       "      <td>http://www.foodista.com/recipe/YN6PSSKQ/curry-...</td>\n",
       "    </tr>\n",
       "    <tr>\n",
       "      <th>4</th>\n",
       "      <td>Grilled Chicken With Spinach-Chive Pesto</td>\n",
       "      <td>https://img.spoonacular.com/recipes/645673-556...</td>\n",
       "      <td>['baby spinach', 'chives', 'whole garlic clove...</td>\n",
       "      <td>30</td>\n",
       "      <td>['gluten free', 'primal', 'ketogenic']</td>\n",
       "      <td>NaN</td>\n",
       "      <td>http://www.foodista.com/recipe/D3K3R425/grille...</td>\n",
       "    </tr>\n",
       "  </tbody>\n",
       "</table>\n",
       "</div>"
      ],
      "text/plain": [
       "                                   Recipe Name  \\\n",
       "0                          Cajun Chicken Pasta   \n",
       "1                         Chicken shish kabobs   \n",
       "2  How to Make the Perfect Instant Pot Chicken   \n",
       "3                        Curry-Braised Chicken   \n",
       "4     Grilled Chicken With Spinach-Chive Pesto   \n",
       "\n",
       "                                      Thumbnail Link  \\\n",
       "0  https://img.spoonacular.com/recipes/606953-556...   \n",
       "1  https://img.spoonacular.com/recipes/630484-556...   \n",
       "2  https://img.spoonacular.com/recipes/1050444-55...   \n",
       "3  https://img.spoonacular.com/recipes/641145-556...   \n",
       "4  https://img.spoonacular.com/recipes/645673-556...   \n",
       "\n",
       "                                         Ingredients  Cook Time (in minutes)  \\\n",
       "0  ['butter', 'cajun seasoning', 'dried basil', '...                      30   \n",
       "1  ['boneless skinless chicken breast', 'garlic',...                      50   \n",
       "2  ['avocado oil', 'chicken breast', 'bell pepper...                      18   \n",
       "3  ['basmati rice', 'golden brown sugar', 'fish s...                      75   \n",
       "4  ['baby spinach', 'chives', 'whole garlic clove...                      30   \n",
       "\n",
       "                                                Diet              Cuisine  \\\n",
       "0                                                 []  ['Creole', 'Cajun']   \n",
       "1                      ['gluten free', 'dairy free']                  NaN   \n",
       "2  ['gluten free', 'dairy free', 'paleolithic', '...                  NaN   \n",
       "3   ['gluten free', 'dairy free', 'fodmap friendly']  ['Indian', 'Asian']   \n",
       "4             ['gluten free', 'primal', 'ketogenic']                  NaN   \n",
       "\n",
       "                                       Recipe Source  \n",
       "0              http://spoonacular.com/-1406317922675  \n",
       "1             https://spoonacular.com/-1426597077324  \n",
       "2      https://www.pinkwhen.com/instant-pot-chicken/  \n",
       "3  http://www.foodista.com/recipe/YN6PSSKQ/curry-...  \n",
       "4  http://www.foodista.com/recipe/D3K3R425/grille...  "
      ]
     },
     "execution_count": 1,
     "metadata": {},
     "output_type": "execute_result"
    }
   ],
   "source": [
    "import pandas as pd\n",
    "\n",
    "recipe = pd.read_csv(r\"C:\\Users\\catel\\OneDrive\\Documents\\GitHub\\class-work\\final_project\\recipes.csv\")\n",
    "recipe.head()"
   ]
  },
  {
   "cell_type": "code",
   "execution_count": 24,
   "id": "fa642c49",
   "metadata": {},
   "outputs": [
    {
     "data": {
      "text/plain": [
       "Index(['Recipe Name', 'Thumbnail Link', 'Ingredients',\n",
       "       'Cook Time (in minutes)', 'Diet', 'Cuisine', 'Recipe Source'],\n",
       "      dtype='object')"
      ]
     },
     "execution_count": 24,
     "metadata": {},
     "output_type": "execute_result"
    }
   ],
   "source": [
    "recipe.columns"
   ]
  },
  {
   "cell_type": "code",
   "execution_count": null,
   "id": "95821f9b",
   "metadata": {},
   "outputs": [
    {
     "name": "stdout",
     "output_type": "stream",
     "text": [
      "<class 'pandas.core.frame.DataFrame'>\n",
      "RangeIndex: 5 entries, 0 to 4\n",
      "Data columns (total 7 columns):\n",
      " #   Column                  Non-Null Count  Dtype \n",
      "---  ------                  --------------  ----- \n",
      " 0   Recipe Name             5 non-null      object\n",
      " 1   Thumbnail Link          5 non-null      object\n",
      " 2   Ingredients             5 non-null      object\n",
      " 3   Cook Time (in minutes)  5 non-null      int64 \n",
      " 4   Diet                    5 non-null      object\n",
      " 5   Cuisine                 5 non-null      object\n",
      " 6   Recipe Source           5 non-null      object\n",
      "dtypes: int64(1), object(6)\n",
      "memory usage: 412.0+ bytes\n"
     ]
    }
   ],
   "source": [
    "# recipe = recipe.fillna(\"None\")\n",
    "# recipe.info()"
   ]
  },
  {
   "cell_type": "code",
   "execution_count": 25,
   "id": "578e51ce",
   "metadata": {},
   "outputs": [
    {
     "data": {
      "text/plain": [
       "0                         ['Creole', 'Cajun']\n",
       "1                                         NaN\n",
       "2                                         NaN\n",
       "3                         ['Indian', 'Asian']\n",
       "4                                         NaN\n",
       "5    ['Mediterranean', 'Italian', 'European']\n",
       "6                                         NaN\n",
       "7                                         NaN\n",
       "8                                         NaN\n",
       "9                                         NaN\n",
       "Name: Cuisine, dtype: object"
      ]
     },
     "execution_count": 25,
     "metadata": {},
     "output_type": "execute_result"
    }
   ],
   "source": [
    "recipe[\"Cuisine\"]"
   ]
  },
  {
   "cell_type": "code",
   "execution_count": 43,
   "id": "8a30e6b3",
   "metadata": {},
   "outputs": [
    {
     "ename": "TypeError",
     "evalue": "eval() arg 1 must be a string, bytes or code object",
     "output_type": "error",
     "traceback": [
      "\u001b[1;31m---------------------------------------------------------------------------\u001b[0m",
      "\u001b[1;31mTypeError\u001b[0m                                 Traceback (most recent call last)",
      "Cell \u001b[1;32mIn[43], line 2\u001b[0m\n\u001b[0;32m      1\u001b[0m \u001b[38;5;28;01mfor\u001b[39;00m i \u001b[38;5;129;01min\u001b[39;00m recipe[\u001b[38;5;124m\"\u001b[39m\u001b[38;5;124mCuisine\u001b[39m\u001b[38;5;124m\"\u001b[39m]:\n\u001b[1;32m----> 2\u001b[0m     recipe[\u001b[38;5;124m\"\u001b[39m\u001b[38;5;124mCuisine\u001b[39m\u001b[38;5;124m\"\u001b[39m] \u001b[38;5;241m=\u001b[39m \u001b[38;5;28meval\u001b[39m(recipe[\u001b[38;5;124m\"\u001b[39m\u001b[38;5;124mCuisine\u001b[39m\u001b[38;5;124m\"\u001b[39m])\n\u001b[0;32m      3\u001b[0m     recipe[\u001b[38;5;124m\"\u001b[39m\u001b[38;5;124mCuisine\u001b[39m\u001b[38;5;124m\"\u001b[39m]\n",
      "\u001b[1;31mTypeError\u001b[0m: eval() arg 1 must be a string, bytes or code object"
     ]
    }
   ],
   "source": [
    "for i in recipe[\"Cuisine\"]:\n",
    "    recipe[\"Cuisine\"] = eval(recipe[\"Cuisine\"])\n",
    "    recipe[\"Cuisine\"]"
   ]
  },
  {
   "cell_type": "code",
   "execution_count": 25,
   "id": "3a5f6fc0",
   "metadata": {},
   "outputs": [
    {
     "name": "stdout",
     "output_type": "stream",
     "text": [
      "None\n",
      "None\n",
      "None\n",
      "<class 'list'>\n",
      "Chinese Asian\n",
      "<class 'list'>\n",
      "Chinese Asian\n"
     ]
    }
   ],
   "source": [
    "#how do you convert a string that's actually a list back into a list?\n",
    "#the eval() -- takes one paramter, the string, returns the appropriate object \n",
    "\n",
    "for i in recipe[\"Cuisine\"]:\n",
    "    try:\n",
    "        new = eval(i)\n",
    "        print(type(new))\n",
    "        print(new[0], new[1])\n",
    "    except TypeError:\n",
    "        print(\"None\")\n",
    "\n",
    "# recipe[\"Cuisine\"] = recipe[\"Cuisine\"].apply(eval())"
   ]
  },
  {
   "cell_type": "code",
   "execution_count": 15,
   "id": "c23380cc",
   "metadata": {},
   "outputs": [
    {
     "name": "stdout",
     "output_type": "stream",
     "text": [
      "nan\n",
      "nan\n",
      "nan\n",
      "<class 'list'>\n",
      "<class 'list'>\n"
     ]
    }
   ],
   "source": [
    "for item in recipe[\"Cuisine\"]:\n",
    "    try:\n",
    "        new = list(item)\n",
    "        print(type(new))\n",
    "    except TypeError:\n",
    "        print(\"nan\")\n",
    "    # if \"Chinese\" in recipe[\"Cuisine\"]:\n",
    "    #     print(item)"
   ]
  },
  {
   "cell_type": "code",
   "execution_count": 6,
   "id": "2148c029",
   "metadata": {},
   "outputs": [],
   "source": [
    "cuisine_list = [\"African\", \"Asian\", \"American\", \"British\", \"Cajun\", \"Caribbean\", \"Chinese\", \"Creole\", \"Eastern European\", \"European\", \"French\", \"German\", \"Greek\", \"Indian\", \"Irish\", \"Italian\", \"Japanese\", \"Jewish\", \"Korean\", \"Latin American\", \"Mediterranean\", \"Mexican\", \"Middle Eastern\", \"Nordic\", \"Southern\", \"Spanish\", \"Thai\", \"Vietnamese\"]"
   ]
  },
  {
   "cell_type": "code",
   "execution_count": 5,
   "id": "5776b85e",
   "metadata": {},
   "outputs": [
    {
     "ename": "TypeError",
     "evalue": "argument of type 'float' is not iterable",
     "output_type": "error",
     "traceback": [
      "\u001b[1;31m---------------------------------------------------------------------------\u001b[0m",
      "\u001b[1;31mTypeError\u001b[0m                                 Traceback (most recent call last)",
      "Cell \u001b[1;32mIn[5], line 9\u001b[0m\n\u001b[0;32m      6\u001b[0m                 \u001b[38;5;28;01mif\u001b[39;00m cuisine \u001b[38;5;129;01min\u001b[39;00m i:\n\u001b[0;32m      7\u001b[0m                     \u001b[38;5;28mprint\u001b[39m(\u001b[38;5;124m\"\u001b[39m\u001b[38;5;124mworks\u001b[39m\u001b[38;5;124m\"\u001b[39m)\n\u001b[1;32m----> 9\u001b[0m cuisine_filter(recipe)\n",
      "Cell \u001b[1;32mIn[5], line 6\u001b[0m, in \u001b[0;36mcuisine_filter\u001b[1;34m(list)\u001b[0m\n\u001b[0;32m      4\u001b[0m \u001b[38;5;28;01mif\u001b[39;00m cuisine_input \u001b[38;5;241m==\u001b[39m cuisine:\n\u001b[0;32m      5\u001b[0m     \u001b[38;5;28;01mfor\u001b[39;00m i \u001b[38;5;129;01min\u001b[39;00m recipe[\u001b[38;5;124m\"\u001b[39m\u001b[38;5;124mCuisine\u001b[39m\u001b[38;5;124m\"\u001b[39m]:\n\u001b[1;32m----> 6\u001b[0m         \u001b[38;5;28;01mif\u001b[39;00m cuisine \u001b[38;5;129;01min\u001b[39;00m i:\n\u001b[0;32m      7\u001b[0m             \u001b[38;5;28mprint\u001b[39m(\u001b[38;5;124m\"\u001b[39m\u001b[38;5;124mworks\u001b[39m\u001b[38;5;124m\"\u001b[39m)\n",
      "\u001b[1;31mTypeError\u001b[0m: argument of type 'float' is not iterable"
     ]
    }
   ],
   "source": [
    "def cuisine_filter(list):\n",
    "    cuisine_input = input(\"What cuisine?\")\n",
    "    for cuisine in cuisine_list:\n",
    "        if cuisine_input == cuisine:\n",
    "            for i in recipe[\"Cuisine\"]:\n",
    "                if cuisine in i:\n",
    "                    print(\"works\")\n",
    "\n",
    "cuisine_filter(recipe)"
   ]
  },
  {
   "cell_type": "code",
   "execution_count": 23,
   "id": "0b149328",
   "metadata": {},
   "outputs": [
    {
     "data": {
      "text/html": [
       "<div>\n",
       "<style scoped>\n",
       "    .dataframe tbody tr th:only-of-type {\n",
       "        vertical-align: middle;\n",
       "    }\n",
       "\n",
       "    .dataframe tbody tr th {\n",
       "        vertical-align: top;\n",
       "    }\n",
       "\n",
       "    .dataframe thead th {\n",
       "        text-align: right;\n",
       "    }\n",
       "</style>\n",
       "<table border=\"1\" class=\"dataframe\">\n",
       "  <thead>\n",
       "    <tr style=\"text-align: right;\">\n",
       "      <th></th>\n",
       "      <th>Recipe Name</th>\n",
       "      <th>Thumbnail Link</th>\n",
       "      <th>Ingredients</th>\n",
       "      <th>Cook Time (in minutes)</th>\n",
       "      <th>Diet</th>\n",
       "      <th>Cuisine</th>\n",
       "      <th>Recipe Source</th>\n",
       "    </tr>\n",
       "  </thead>\n",
       "  <tbody>\n",
       "    <tr>\n",
       "      <th>3</th>\n",
       "      <td>Curry-Braised Chicken</td>\n",
       "      <td>https://img.spoonacular.com/recipes/641145-556...</td>\n",
       "      <td>['basmati rice', 'golden brown sugar', 'fish s...</td>\n",
       "      <td>75</td>\n",
       "      <td>['gluten free', 'dairy free', 'fodmap friendly']</td>\n",
       "      <td>['Indian', 'Asian']</td>\n",
       "      <td>http://www.foodista.com/recipe/YN6PSSKQ/curry-...</td>\n",
       "    </tr>\n",
       "  </tbody>\n",
       "</table>\n",
       "</div>"
      ],
      "text/plain": [
       "             Recipe Name                                     Thumbnail Link  \\\n",
       "3  Curry-Braised Chicken  https://img.spoonacular.com/recipes/641145-556...   \n",
       "\n",
       "                                         Ingredients  Cook Time (in minutes)  \\\n",
       "3  ['basmati rice', 'golden brown sugar', 'fish s...                      75   \n",
       "\n",
       "                                               Diet              Cuisine  \\\n",
       "3  ['gluten free', 'dairy free', 'fodmap friendly']  ['Indian', 'Asian']   \n",
       "\n",
       "                                       Recipe Source  \n",
       "3  http://www.foodista.com/recipe/YN6PSSKQ/curry-...  "
      ]
     },
     "execution_count": 23,
     "metadata": {},
     "output_type": "execute_result"
    }
   ],
   "source": [
    "def cuisine_filter(recipe):\n",
    "    found_cuisines = []\n",
    "\n",
    "    for item in recipe[\"Cuisine\"]:\n",
    "        if isinstance(item, str): # to check if the item is a string first so we can use the eval function\n",
    "            # https://www.geeksforgeeks.org/check-if-a-variable-is-string-python/\n",
    "            try:\n",
    "                cuisine_tags = eval(item)\n",
    "                for cuisine in cuisine_tags:\n",
    "                    if cuisine in cuisine_list:\n",
    "                        found_cuisines.append(cuisine)\n",
    "            except ValueError: # make sure no NaN values are included\n",
    "                continue\n",
    "    \n",
    "    if found_cuisines:\n",
    "        cuisine_input = input(f\"What cuisine do you want to filter for?: {found_cuisines}\")\n",
    "        filtered_recipes = []\n",
    "\n",
    "        for i, item in recipe.iterrows(): # to iterate through each recipe in the csv, https://www.geeksforgeeks.org/different-ways-to-iterate-over-rows-in-pandas-dataframe/\n",
    "            cuisine = item[\"Cuisine\"]\n",
    "            if isinstance(cuisine, str):\n",
    "                try:\n",
    "                    cuisine_tags = eval(cuisine)\n",
    "                    if cuisine_input in cuisine_tags:\n",
    "                        filtered_recipes.append(i)\n",
    "                except:\n",
    "                    continue\n",
    "        return recipe.loc[filtered_recipes]\n",
    "\n",
    "    else:\n",
    "        print(\"No cuisines found.\")\n",
    "\n",
    "cuisine_filter(recipe)"
   ]
  },
  {
   "cell_type": "code",
   "execution_count": 36,
   "id": "f6bdac3c",
   "metadata": {},
   "outputs": [
    {
     "data": {
      "text/html": [
       "<div>\n",
       "<style scoped>\n",
       "    .dataframe tbody tr th:only-of-type {\n",
       "        vertical-align: middle;\n",
       "    }\n",
       "\n",
       "    .dataframe tbody tr th {\n",
       "        vertical-align: top;\n",
       "    }\n",
       "\n",
       "    .dataframe thead th {\n",
       "        text-align: right;\n",
       "    }\n",
       "</style>\n",
       "<table border=\"1\" class=\"dataframe\">\n",
       "  <thead>\n",
       "    <tr style=\"text-align: right;\">\n",
       "      <th></th>\n",
       "      <th>Recipe Name</th>\n",
       "      <th>Thumbnail Link</th>\n",
       "      <th>Ingredients</th>\n",
       "      <th>Cook Time (in minutes)</th>\n",
       "      <th>Diet</th>\n",
       "      <th>Cuisine</th>\n",
       "      <th>Recipe Source</th>\n",
       "    </tr>\n",
       "  </thead>\n",
       "  <tbody>\n",
       "    <tr>\n",
       "      <th>5</th>\n",
       "      <td>Polla alla Parmigiana: Chicken Parmesan</td>\n",
       "      <td>https://img.spoonacular.com/recipes/656571-556...</td>\n",
       "      <td>['breadcrumbs', 'egg', 'wheat flour', 'marjora...</td>\n",
       "      <td>45</td>\n",
       "      <td>[]</td>\n",
       "      <td>['Mediterranean', 'Italian', 'European']</td>\n",
       "      <td>https://www.foodista.com/recipe/PT5ZVJYJ/polla...</td>\n",
       "    </tr>\n",
       "  </tbody>\n",
       "</table>\n",
       "</div>"
      ],
      "text/plain": [
       "                               Recipe Name  \\\n",
       "5  Polla alla Parmigiana: Chicken Parmesan   \n",
       "\n",
       "                                      Thumbnail Link  \\\n",
       "5  https://img.spoonacular.com/recipes/656571-556...   \n",
       "\n",
       "                                         Ingredients  Cook Time (in minutes)  \\\n",
       "5  ['breadcrumbs', 'egg', 'wheat flour', 'marjora...                      45   \n",
       "\n",
       "  Diet                                   Cuisine  \\\n",
       "5   []  ['Mediterranean', 'Italian', 'European']   \n",
       "\n",
       "                                       Recipe Source  \n",
       "5  https://www.foodista.com/recipe/PT5ZVJYJ/polla...  "
      ]
     },
     "execution_count": 36,
     "metadata": {},
     "output_type": "execute_result"
    }
   ],
   "source": [
    "# trying out the cuisine filter without the finding cuisines part\n",
    "# use this one instead to implement with checkboxes\n",
    "\n",
    "def other_cuisine_filter(recipe):\n",
    "    cuisine_input = input(f\"What cuisine do you want to filter for?: {cuisine_list}\")\n",
    "    filtered_recipes = []\n",
    "\n",
    "    for i, item in recipe.iterrows(): # to iterate through each recipe in the csv, https://www.geeksforgeeks.org/different-ways-to-iterate-over-rows-in-pandas-dataframe/\n",
    "        cuisine = item[\"Cuisine\"]\n",
    "        if isinstance(cuisine, str):\n",
    "            try:\n",
    "                cuisine_tags = eval(cuisine)\n",
    "                if cuisine_input in cuisine_tags:\n",
    "                    filtered_recipes.append(i)\n",
    "            except:\n",
    "                continue\n",
    "    \n",
    "    if filtered_recipes:\n",
    "        return recipe.loc[filtered_recipes]\n",
    "    else:\n",
    "        return \"No recipes found\"\n",
    "\n",
    "other_cuisine_filter(recipe)\n",
    "\n",
    "# oh hey it works without the first part"
   ]
  },
  {
   "cell_type": "code",
   "execution_count": null,
   "id": "99922d6a",
   "metadata": {},
   "outputs": [],
   "source": []
  }
 ],
 "metadata": {
  "kernelspec": {
   "display_name": "base",
   "language": "python",
   "name": "python3"
  },
  "language_info": {
   "codemirror_mode": {
    "name": "ipython",
    "version": 3
   },
   "file_extension": ".py",
   "mimetype": "text/x-python",
   "name": "python",
   "nbconvert_exporter": "python",
   "pygments_lexer": "ipython3",
   "version": "3.12.4"
  }
 },
 "nbformat": 4,
 "nbformat_minor": 5
}
