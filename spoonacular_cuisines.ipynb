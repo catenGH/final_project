{
 "cells": [
  {
   "cell_type": "code",
   "execution_count": 1,
   "metadata": {},
   "outputs": [],
   "source": [
    "import requests\n",
    "import json"
   ]
  },
  {
   "cell_type": "code",
   "execution_count": null,
   "metadata": {},
   "outputs": [],
   "source": [
    "cuisine_list = [\"African\", \"Asian\", \"American\", \"British\", \"Cajun\", \"Caribbean\", \"Chinese\", \"Eastern European\", \"European\", \"French\", \"German\", \"Greek\", \"Indian\", \"Irish\", \"Italian\", \"Japanese\", \"Jewish\", \"Korean\", \"Latin American\", \"Mediterranean\", \"Mexican\", \"Middle Eastern\", \"Nordic\", \"Southern\", \"Spanish\", \"Thai\", \"Vietnamese\"]"
   ]
  },
  {
   "cell_type": "code",
   "execution_count": 15,
   "metadata": {},
   "outputs": [
    {
     "data": {
      "text/plain": [
       "{'results': [{'id': 715769,\n",
       "   'title': 'Broccolini Quinoa Pilaf',\n",
       "   'image': 'https://img.spoonacular.com/recipes/715769-312x231.jpg',\n",
       "   'imageType': 'jpg'},\n",
       "  {'id': 659109,\n",
       "   'title': 'Salmon Quinoa Risotto',\n",
       "   'image': 'https://img.spoonacular.com/recipes/659109-312x231.jpg',\n",
       "   'imageType': 'jpg'},\n",
       "  {'id': 648279,\n",
       "   'title': 'Italian Tuna Pasta',\n",
       "   'image': 'https://img.spoonacular.com/recipes/648279-312x231.jpg',\n",
       "   'imageType': 'jpg'},\n",
       "  {'id': 1095745,\n",
       "   'title': 'Mushroom Hummus Crostini',\n",
       "   'image': 'https://img.spoonacular.com/recipes/1095745-312x231.jpg',\n",
       "   'imageType': 'jpg'},\n",
       "  {'id': 658753,\n",
       "   'title': 'Roma Tomato Bruschetta',\n",
       "   'image': 'https://img.spoonacular.com/recipes/658753-312x231.jpg',\n",
       "   'imageType': 'jpg'},\n",
       "  {'id': 641893,\n",
       "   'title': 'Easy Cheesy Pizza Casserole',\n",
       "   'image': 'https://img.spoonacular.com/recipes/641893-312x231.jpg',\n",
       "   'imageType': 'jpg'},\n",
       "  {'id': 716300,\n",
       "   'title': 'Plantain Pizza',\n",
       "   'image': 'https://img.spoonacular.com/recipes/716300-312x231.jpg',\n",
       "   'imageType': 'jpg'},\n",
       "  {'id': 664737,\n",
       "   'title': 'Veggie Lasagna Rolls with Peppery Pecorino Marinara',\n",
       "   'image': 'https://img.spoonacular.com/recipes/664737-312x231.jpg',\n",
       "   'imageType': 'jpg'},\n",
       "  {'id': 664565,\n",
       "   'title': 'Vegetable Minestrone Soup',\n",
       "   'image': 'https://img.spoonacular.com/recipes/664565-312x231.jpg',\n",
       "   'imageType': 'jpg'},\n",
       "  {'id': 654125,\n",
       "   'title': 'Osso Buco',\n",
       "   'image': 'https://img.spoonacular.com/recipes/654125-312x231.jpg',\n",
       "   'imageType': 'jpg'}],\n",
       " 'offset': 0,\n",
       " 'number': 10,\n",
       " 'totalResults': 271}"
      ]
     },
     "execution_count": 15,
     "metadata": {},
     "output_type": "execute_result"
    }
   ],
   "source": [
    "# testing the cuisine thing\n",
    "key = \"6eccbe1676054b1e9304c8d1f5225764\"\n",
    "cuisines = requests.get(f\"https://api.spoonacular.com/recipes/complexSearch?cuisine=Italian&apiKey={key}\").json()\n",
    "cuisines"
   ]
  },
  {
   "cell_type": "code",
   "execution_count": null,
   "metadata": {},
   "outputs": [],
   "source": []
  }
 ],
 "metadata": {
  "kernelspec": {
   "display_name": "base",
   "language": "python",
   "name": "python3"
  },
  "language_info": {
   "codemirror_mode": {
    "name": "ipython",
    "version": 3
   },
   "file_extension": ".py",
   "mimetype": "text/x-python",
   "name": "python",
   "nbconvert_exporter": "python",
   "pygments_lexer": "ipython3",
   "version": "3.12.4"
  }
 },
 "nbformat": 4,
 "nbformat_minor": 2
}
